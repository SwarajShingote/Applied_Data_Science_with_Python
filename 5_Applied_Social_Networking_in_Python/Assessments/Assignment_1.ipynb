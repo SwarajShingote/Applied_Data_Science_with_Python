{
 "cells": [
  {
   "cell_type": "markdown",
   "metadata": {},
   "source": [
    "---\n",
    "\n",
    "_You are currently looking at **version 1.1** of this notebook. To download notebooks and datafiles, as well as get help on Jupyter notebooks in the Coursera platform, visit the [Jupyter Notebook FAQ](https://www.coursera.org/learn/python-social-network-analysis/resources/yPcBs) course resource._\n",
    "\n",
    "---"
   ]
  },
  {
   "cell_type": "markdown",
   "metadata": {},
   "source": [
    "# Assignment 1 - Creating and Manipulating Graphs\n",
    "\n",
    "Eight employees at a small company were asked to choose 3 movies that they would most enjoy watching for the upcoming company movie night. These choices are stored in the file `Employee_Movie_Choices.txt`.\n",
    "\n",
    "A second file, `Employee_Relationships.txt`, has data on the relationships between different coworkers. \n",
    "\n",
    "The relationship score has value of `-100` (Enemies) to `+100` (Best Friends). A value of zero means the two employees haven't interacted or are indifferent.\n",
    "\n",
    "Both files are tab delimited."
   ]
  },
  {
   "cell_type": "code",
   "execution_count": 1,
   "metadata": {
    "collapsed": true
   },
   "outputs": [],
   "source": [
    "import networkx as nx\n",
    "import pandas as pd\n",
    "import numpy as np\n",
    "from networkx.algorithms import bipartite\n",
    "\n",
    "\n",
    "# This is the set of employees\n",
    "employees = set(['Pablo',\n",
    "                 'Lee',\n",
    "                 'Georgia',\n",
    "                 'Vincent',\n",
    "                 'Andy',\n",
    "                 'Frida',\n",
    "                 'Joan',\n",
    "                 'Claude'])\n",
    "\n",
    "# This is the set of movies\n",
    "movies = set(['The Shawshank Redemption',\n",
    "              'Forrest Gump',\n",
    "              'The Matrix',\n",
    "              'Anaconda',\n",
    "              'The Social Network',\n",
    "              'The Godfather',\n",
    "              'Monty Python and the Holy Grail',\n",
    "              'Snakes on a Plane',\n",
    "              'Kung Fu Panda',\n",
    "              'The Dark Knight',\n",
    "              'Mean Girls'])\n",
    "\n",
    "\n",
    "# you can use the following function to plot graphs\n",
    "# make sure to comment it out before submitting to the autograder\n",
    "# def plot_graph(G, weight_name=None):\n",
    "#     '''\n",
    "#     G: a networkx G\n",
    "#     weight_name: name of the attribute for plotting edge weights (if G is weighted)\n",
    "#     '''\n",
    "# #     %matplotlib notebook\n",
    "#     import matplotlib.pyplot as plt\n",
    "    \n",
    "#     plt.figure()\n",
    "#     pos = nx.spring_layout(G)\n",
    "#     edges = G.edges()\n",
    "#     weights = None\n",
    "    \n",
    "#     if weight_name:\n",
    "#         weights = [int(G[u][v][weight_name]) for u,v in edges]\n",
    "#         labels = nx.get_edge_attributes(G,weight_name)\n",
    "#         nx.draw_networkx_edge_labels(G,pos,edge_labels=labels)\n",
    "#         nx.draw_networkx(G, pos, edges=edges, width=weights);\n",
    "#     else:\n",
    "#         nx.draw_networkx(G, pos, edges=edges);\n"
   ]
  },
  {
   "cell_type": "markdown",
   "metadata": {},
   "source": [
    "### Question 1\n",
    "\n",
    "Using NetworkX, load in the bipartite graph from `Employee_Movie_Choices.txt` and return that graph.\n",
    "\n",
    "*This function should return a networkx graph with 19 nodes and 24 edges*"
   ]
  },
  {
   "cell_type": "code",
   "execution_count": 2,
   "metadata": {},
   "outputs": [
    {
     "data": {
      "text/plain": [
       "<networkx.classes.graph.Graph at 0x7f3bb84ce278>"
      ]
     },
     "execution_count": 2,
     "metadata": {},
     "output_type": "execute_result"
    }
   ],
   "source": [
    "def answer_one():\n",
    "        \n",
    "    G = nx.read_edgelist('Employee_Movie_Choices.txt',delimiter='\\t')\n",
    "    \n",
    "    \n",
    "    return G\n",
    "answer_one()\n",
    "# plot_graph(answer_one(),weight_name = None)"
   ]
  },
  {
   "cell_type": "markdown",
   "metadata": {},
   "source": [
    "### Question 2\n",
    "\n",
    "Using the graph from the previous question, add nodes attributes named `'type'` where movies have the value `'movie'` and employees have the value `'employee'` and return that graph.\n",
    "\n",
    "*This function should return a networkx graph with node attributes `{'type': 'movie'}` or `{'type': 'employee'}`*"
   ]
  },
  {
   "cell_type": "code",
   "execution_count": 3,
   "metadata": {},
   "outputs": [
    {
     "data": {
      "text/plain": [
       "<networkx.classes.graph.Graph at 0x7f3bb8400f60>"
      ]
     },
     "execution_count": 3,
     "metadata": {},
     "output_type": "execute_result"
    }
   ],
   "source": [
    "def answer_two():\n",
    "    \n",
    "    G= answer_one()\n",
    "    for node in G.nodes() :\n",
    "        if node in employees :\n",
    "            G.add_node(node,type='employee')\n",
    "        else :\n",
    "            G.add_node(node,type='movie')\n",
    "    return G\n",
    "answer_two()\n",
    "# plot_graph(answer_two(),weight_name = None)"
   ]
  },
  {
   "cell_type": "markdown",
   "metadata": {
    "collapsed": true
   },
   "source": [
    "### Question 3\n",
    "\n",
    "Find a weighted projection of the graph from `answer_two` which tells us how many movies different pairs of employees have in common.\n",
    "\n",
    "*This function should return a weighted projected graph.*"
   ]
  },
  {
   "cell_type": "code",
   "execution_count": 4,
   "metadata": {},
   "outputs": [
    {
     "data": {
      "text/plain": [
       "<networkx.classes.graph.Graph at 0x7f3b8910d7b8>"
      ]
     },
     "execution_count": 4,
     "metadata": {},
     "output_type": "execute_result"
    }
   ],
   "source": [
    "def answer_three():\n",
    "        \n",
    "    B = answer_two()\n",
    "    weight_proj = bipartite.weighted_projected_graph(B,employees)\n",
    "    \n",
    "    return weight_proj\n",
    "answer_three()\n",
    "# plot_graph(answer_three(),weight_name = None)"
   ]
  },
  {
   "cell_type": "code",
   "execution_count": 5,
   "metadata": {},
   "outputs": [
    {
     "name": "stdout",
     "output_type": "stream",
     "text": [
      "Andy\tClaude\t0\r\n",
      "Andy\tFrida\t20\r\n",
      "Andy\tGeorgia\t-10\r\n",
      "Andy\tJoan\t30\r\n",
      "Andy\tLee\t-10\r\n",
      "Andy\tPablo\t-10\r\n",
      "Andy\tVincent\t20\r\n",
      "Claude\tFrida\t0\r\n",
      "Claude\tGeorgia\t90\r\n",
      "Claude\tJoan\t0\r\n",
      "Claude\tLee\t0\r\n",
      "Claude\tPablo\t10\r\n",
      "Claude\tVincent\t0\r\n",
      "Frida\tGeorgia\t0\r\n",
      "Frida\tJoan\t0\r\n",
      "Frida\tLee\t0\r\n",
      "Frida\tPablo\t50\r\n",
      "Frida\tVincent\t60\r\n",
      "Georgia\tJoan\t0\r\n",
      "Georgia\tLee\t10\r\n",
      "Georgia\tPablo\t0\r\n",
      "Georgia\tVincent\t0\r\n",
      "Joan\tLee\t70\r\n",
      "Joan\tPablo\t0\r\n",
      "Joan\tVincent\t10\r\n",
      "Lee\tPablo\t0\r\n",
      "Lee\tVincent\t0\r\n",
      "Pablo\tVincent\t-20\r\n"
     ]
    }
   ],
   "source": [
    "# !cat Employee_Relationships.txt"
   ]
  },
  {
   "cell_type": "markdown",
   "metadata": {
    "collapsed": true
   },
   "source": [
    "### Question 4\n",
    "\n",
    "Suppose you'd like to find out if people that have a high relationship score also like the same types of movies.\n",
    "\n",
    "Find the Pearson correlation ( using `DataFrame.corr()` ) between employee relationship scores and the number of movies they have in common. If two employees have no movies in common it should be treated as a 0, not a missing value, and should be included in the correlation calculation.\n",
    "\n",
    "*This function should return a float.*"
   ]
  },
  {
   "cell_type": "code",
   "execution_count": 6,
   "metadata": {},
   "outputs": [
    {
     "data": {
      "text/plain": [
       "0.78839622217334737"
      ]
     },
     "execution_count": 6,
     "metadata": {},
     "output_type": "execute_result"
    }
   ],
   "source": [
    "def answer_four():\n",
    "        \n",
    "    relation = nx.read_edgelist('Employee_Relationships.txt', data=[('relationship_score', int)])\n",
    "    relation_df = pd.DataFrame(relation.edges(data=True),columns=['From','To','relationship_score'])\n",
    "    \n",
    "    G = answer_three()\n",
    "    G_df = pd.DataFrame(G.edges(data=True),columns=['From','To','movie_score'])\n",
    "    \n",
    "    G1_df = G_df.copy()\n",
    "    \n",
    "    G1_df.rename(columns={\"From\":\"From_\",\"To\":\"From\"},inplace=True)\n",
    "    G1_df.rename(columns={\"From_\":\"To\"},inplace=True)\n",
    "    \n",
    "    G_final_df = pd.concat([G_df,G1_df])\n",
    "    \n",
    "    final_df = pd.merge(G_final_df,relation_df,on=[\"From\",\"To\"],how = \"right\")\n",
    "    \n",
    "    final_df['movie_score'] = final_df['movie_score'].map(lambda x: x['weight'] if type(x)==dict else None)\n",
    "    \n",
    "    final_df['relationship_score'] = final_df['relationship_score'].map(lambda x: x['relationship_score'])\n",
    "    \n",
    "    final_df['movie_score'].fillna(value=0, inplace=True)\n",
    "    \n",
    "    result = final_df['movie_score'].corr(final_df['relationship_score'])\n",
    "\n",
    "    return result\n",
    "\n",
    "answer_four()\n"
   ]
  },
  {
   "cell_type": "code",
   "execution_count": null,
   "metadata": {
    "collapsed": true
   },
   "outputs": [],
   "source": []
  },
  {
   "cell_type": "code",
   "execution_count": null,
   "metadata": {
    "collapsed": true
   },
   "outputs": [],
   "source": []
  }
 ],
 "metadata": {
  "coursera": {
   "course_slug": "python-social-network-analysis",
   "graded_item_id": "YNa9b",
   "launcher_item_id": "hvNc1",
   "part_id": "VbyiB"
  },
  "kernelspec": {
   "display_name": "Python 3",
   "language": "python",
   "name": "python3"
  },
  "language_info": {
   "codemirror_mode": {
    "name": "ipython",
    "version": 3
   },
   "file_extension": ".py",
   "mimetype": "text/x-python",
   "name": "python",
   "nbconvert_exporter": "python",
   "pygments_lexer": "ipython3",
   "version": "3.6.2"
  }
 },
 "nbformat": 4,
 "nbformat_minor": 2
}
